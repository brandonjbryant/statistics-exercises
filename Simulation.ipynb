{
 "cells": [
  {
   "cell_type": "code",
   "execution_count": 32,
   "metadata": {},
   "outputs": [],
   "source": [
    "%matplotlib inline\n",
    "import numpy as np\n",
    "import pandas as pd\n",
    "\n",
    "\n",
    "\n",
    "np.random.seed(29)"
   ]
  },
  {
   "cell_type": "markdown",
   "metadata": {},
   "source": [
    "`1.How likely is it that you roll doubles when rolling two dice?`"
   ]
  },
  {
   "cell_type": "code",
   "execution_count": 33,
   "metadata": {},
   "outputs": [
    {
     "data": {
      "text/plain": [
       "array([[6, 4, 5, ..., 1, 1, 3],\n",
       "       [4, 4, 6, ..., 5, 6, 5]])"
      ]
     },
     "execution_count": 33,
     "metadata": {},
     "output_type": "execute_result"
    }
   ],
   "source": [
    "rolls = np.random.choice([1, 2, 3, 4, 5, 6], size=(2, 100_000))\n",
    "rolls"
   ]
  },
  {
   "cell_type": "code",
   "execution_count": 34,
   "metadata": {},
   "outputs": [
    {
     "data": {
      "text/plain": [
       "100000"
      ]
     },
     "execution_count": 34,
     "metadata": {},
     "output_type": "execute_result"
    }
   ],
   "source": [
    "rolls[0].size"
   ]
  },
  {
   "cell_type": "code",
   "execution_count": 35,
   "metadata": {},
   "outputs": [],
   "source": [
    "#array values : event of rolling two dice.\n",
    "die1 = rolls[0]\n",
    "die2 = rolls[1]"
   ]
  },
  {
   "cell_type": "code",
   "execution_count": 36,
   "metadata": {},
   "outputs": [
    {
     "name": "stdout",
     "output_type": "stream",
     "text": [
      "4\n",
      "4\n"
     ]
    }
   ],
   "source": [
    "print(die1[1])\n",
    "print(die2[1])"
   ]
  },
  {
   "cell_type": "code",
   "execution_count": 37,
   "metadata": {},
   "outputs": [
    {
     "data": {
      "text/plain": [
       "0.16552"
      ]
     },
     "execution_count": 37,
     "metadata": {},
     "output_type": "execute_result"
    }
   ],
   "source": [
    "# vectorize\n",
    "(die1 == die2).mean()"
   ]
  },
  {
   "cell_type": "markdown",
   "metadata": {},
   "source": [
    "`2. If you flip 8 coins, what is the probability of getting exactly 3 heads?` \n",
    "   * What is the probability of getting more than 3 heads?\n",
    "\n"
   ]
  },
  {
   "cell_type": "code",
   "execution_count": null,
   "metadata": {},
   "outputs": [],
   "source": [
    "# mentally visualize the situation\n"
   ]
  },
  {
   "cell_type": "code",
   "execution_count": 11,
   "metadata": {},
   "outputs": [],
   "source": [
    "n_simulations = nrows = 1_000_000\n",
    "n_trials = ncols = 8\n",
    "heads = 1\n",
    "tails = 0\n",
    "flips = np.random.choice([heads, tails], size=(n_simulations, n_trials))"
   ]
  },
  {
   "cell_type": "code",
   "execution_count": 12,
   "metadata": {},
   "outputs": [
    {
     "data": {
      "text/plain": [
       "array([[0, 1, 0, ..., 1, 0, 1],\n",
       "       [0, 1, 1, ..., 1, 1, 1],\n",
       "       [0, 1, 1, ..., 0, 1, 0],\n",
       "       ...,\n",
       "       [1, 0, 1, ..., 1, 1, 0],\n",
       "       [0, 1, 0, ..., 1, 0, 1],\n",
       "       [1, 1, 0, ..., 1, 0, 1]])"
      ]
     },
     "execution_count": 12,
     "metadata": {},
     "output_type": "execute_result"
    }
   ],
   "source": [
    "flips\n"
   ]
  },
  {
   "cell_type": "code",
   "execution_count": 14,
   "metadata": {},
   "outputs": [],
   "source": [
    "numheads = flips.sum(axis=1)\n",
    "\n",
    "# average number times the sum equaled 3\n",
    "calculated_prob = (numheads == 3).mean()\n"
   ]
  },
  {
   "cell_type": "markdown",
   "metadata": {},
   "source": [
    "`3. There are approximitely 3 web development cohorts for every 1 data science cohort at Codeup. `\n",
    "   * Assuming that Codeup randomly selects an alumni to put on a billboard\n",
    "   * What are the odds that the two billboards I drive past both have data science students on them?"
   ]
  },
  {
   "cell_type": "code",
   "execution_count": 41,
   "metadata": {},
   "outputs": [],
   "source": [
    "n_simulations = nrows = 1_000_000\n",
    "n_trials = ncols = 2\n",
    "data_sci = 1\n",
    "web_dev = 0\n",
    "commutes = np.random.choice([data_sci, web_dev], size=(n_simulations, n_trials), p =[0.25, 0.75])"
   ]
  },
  {
   "cell_type": "code",
   "execution_count": null,
   "metadata": {},
   "outputs": [],
   "source": [
    "calculated_prob = "
   ]
  },
  {
   "cell_type": "code",
   "execution_count": null,
   "metadata": {},
   "outputs": [],
   "source": []
  },
  {
   "cell_type": "code",
   "execution_count": null,
   "metadata": {},
   "outputs": [],
   "source": []
  },
  {
   "cell_type": "markdown",
   "metadata": {},
   "source": [
    "`4. Codeup students buy, on average, 3 poptart packages (+- 1.5) a day from the snack vending machine. If on monday the machine is restocked with 17 poptart packages, how likely is it that I will be able to buy some poptarts on Friday afternoon?`"
   ]
  },
  {
   "cell_type": "code",
   "execution_count": null,
   "metadata": {},
   "outputs": [],
   "source": [
    "# average number of poptarts consumed :\n",
    "pop_avg = 3\n",
    "\n",
    "#deviation of poptarts : 1.5\n",
    "pop_std = 1.5\n",
    "n_trials = n_cols = 5\n",
    "n_simulations = n_rows = 1_000_000\n",
    "sim_consumed_poptarts =np.random"
   ]
  },
  {
   "cell_type": "code",
   "execution_count": null,
   "metadata": {},
   "outputs": [],
   "source": [
    "calculated_prob = (sim_consumed_poptarts.sum(axis=1) < 17).mean()\n",
    "print(f'The probability...{n_traials} is {})\n"
   ]
  },
  {
   "cell_type": "markdown",
   "metadata": {},
   "source": [
    "`5. Compare Heights`\n",
    "   * Men have an average height of 178 cm and standard deviation of 8cm.\n",
    "   * Women have a mean of 170, sd = 6cm.\n",
    "   * __If a man and woman are chosen at random, P(woman taller than man)?__"
   ]
  },
  {
   "cell_type": "code",
   "execution_count": 46,
   "metadata": {},
   "outputs": [],
   "source": [
    "men_avg = 178\n",
    "men_std = 8\n",
    "wmn_avg = 170\n",
    "wmn_std = 6\n"
   ]
  },
  {
   "cell_type": "code",
   "execution_count": 43,
   "metadata": {},
   "outputs": [
    {
     "data": {
      "text/plain": [
       "array([190.7889283 , 180.8992155 , 168.63804163, ..., 169.69179315,\n",
       "       183.37725036, 177.95322329])"
      ]
     },
     "execution_count": 43,
     "metadata": {},
     "output_type": "execute_result"
    }
   ],
   "source": [
    "s_men = np.random.normal(men_avg, men_std, 1_000_000)\n",
    "s_men"
   ]
  },
  {
   "cell_type": "code",
   "execution_count": 44,
   "metadata": {},
   "outputs": [
    {
     "data": {
      "text/plain": [
       "(1000000,)"
      ]
     },
     "execution_count": 44,
     "metadata": {},
     "output_type": "execute_result"
    }
   ],
   "source": [
    "s_men.shape"
   ]
  },
  {
   "cell_type": "code",
   "execution_count": 47,
   "metadata": {},
   "outputs": [],
   "source": [
    "s_wmn = np.random.normal(wmn_avg, wmn_std, 1_000_000)"
   ]
  },
  {
   "cell_type": "code",
   "execution_count": null,
   "metadata": {},
   "outputs": [],
   "source": [
    "calculated_prob = (s_wmn > s_man).mean()\n",
    "print(f'The probability )"
   ]
  },
  {
   "cell_type": "markdown",
   "metadata": {},
   "source": [
    "`6. When installing anaconda on a student's computer, there's a 1 in 250 chance that the download is corrupted and the installation fails. `\n",
    "   * __What are the odds that after having 50 students download anaconda, no one has an installation issue?__ \n",
    "   * __100 students?__\n",
    "   * __What is the probability that we observe an installation issue within the first 150 students that download anaconda?__"
   ]
  },
  {
   "cell_type": "code",
   "execution_count": 52,
   "metadata": {},
   "outputs": [],
   "source": [
    "n_simulations = nrows = 1_000_000\n",
    "#\n",
    "n_trials = ncols = 50\n",
    "conda_failure = 1\n",
    "great_success = 0\n",
    "\n",
    "#\n",
    "#\n",
    "attempted_class_installs = np.random.choice([conda_failure, great_success], size=(n_simulations, n_trials), p = [0.004, 0.996 ])\n"
   ]
  },
  {
   "cell_type": "code",
   "execution_count": 50,
   "metadata": {},
   "outputs": [
    {
     "data": {
      "text/plain": [
       "0.996"
      ]
     },
     "execution_count": 50,
     "metadata": {},
     "output_type": "execute_result"
    }
   ],
   "source": [
    "calculated_prob = "
   ]
  },
  {
   "cell_type": "code",
   "execution_count": null,
   "metadata": {},
   "outputs": [],
   "source": [
    "n_simulations = nrows = 1_000_000\n",
    "\n",
    "n_trials = ncols = 450\n",
    "conda_failure = 1\n",
    "great_success = 0\n"
   ]
  },
  {
   "cell_type": "markdown",
   "metadata": {},
   "source": [
    "`7. There's a 70% chance on any given day that there will be at least one food truck at Travis Park. However, you haven't seen a food truck there in 3 days.`\n",
    "   *  How unlikely is this?\n",
    "   *  How likely is it that a food truck will show up sometime this week?\n",
    "   "
   ]
  },
  {
   "cell_type": "code",
   "execution_count": 53,
   "metadata": {},
   "outputs": [],
   "source": [
    "n_simulations = nrows = 1_000_000\n",
    "\n",
    "n_trials = ncols = 3\n",
    "food_truck = 1\n",
    "no_truck = 0\n",
    "lunch_days = np.random.choice([food_truck, no_truck], size=(n_simulations , n_trials), p = [0.7, 0.3])"
   ]
  },
  {
   "cell_type": "code",
   "execution_count": null,
   "metadata": {},
   "outputs": [],
   "source": [
    "calculated_prob = "
   ]
  },
  {
   "cell_type": "code",
   "execution_count": null,
   "metadata": {},
   "outputs": [],
   "source": [
    "n_simulations = nrows = 1_000_000\n",
    "n_trials = ncols = 2\n",
    "food_truck = 1\n",
    "no_truck = 0"
   ]
  },
  {
   "cell_type": "code",
   "execution_count": null,
   "metadata": {},
   "outputs": [],
   "source": [
    "lunch_days = np.random.choice([food_truck, no_truck], )"
   ]
  },
  {
   "cell_type": "markdown",
   "metadata": {},
   "source": [
    "`8. If 23 people are in the same room, what are the odds that two of them share a birthday?` \n",
    "   * What if it's 20 people?\n",
    "   * 40?"
   ]
  },
  {
   "cell_type": "code",
   "execution_count": 54,
   "metadata": {},
   "outputs": [],
   "source": [
    "outcomes= range(0, 365)\n",
    "#create the data\n",
    "n_simulations = 1_000_00\n",
    "n_trials = 23 "
   ]
  },
  {
   "cell_type": "code",
   "execution_count": 56,
   "metadata": {},
   "outputs": [],
   "source": [
    "classrooms = np.random.choice(outcomes, size=(n_simulations, n_trials))"
   ]
  },
  {
   "cell_type": "code",
   "execution_count": 57,
   "metadata": {},
   "outputs": [
    {
     "data": {
      "text/plain": [
       "array([[ 21, 124, 349, ..., 290, 240, 172],\n",
       "       [ 46, 200,   5, ..., 140, 354, 251],\n",
       "       [253, 197, 102, ..., 141, 145, 193],\n",
       "       ...,\n",
       "       [251, 319, 335, ..., 364,  10, 328],\n",
       "       [ 68, 263, 211, ..., 242, 103, 131],\n",
       "       [353, 260, 273, ..., 243,  10,  90]])"
      ]
     },
     "execution_count": 57,
     "metadata": {},
     "output_type": "execute_result"
    }
   ],
   "source": [
    "classrooms"
   ]
  },
  {
   "cell_type": "code",
   "execution_count": null,
   "metadata": {},
   "outputs": [],
   "source": []
  }
 ],
 "metadata": {
  "kernelspec": {
   "display_name": "Python 3",
   "language": "python",
   "name": "python3"
  },
  "language_info": {
   "codemirror_mode": {
    "name": "ipython",
    "version": 3
   },
   "file_extension": ".py",
   "mimetype": "text/x-python",
   "name": "python",
   "nbconvert_exporter": "python",
   "pygments_lexer": "ipython3",
   "version": "3.8.5"
  }
 },
 "nbformat": 4,
 "nbformat_minor": 4
}
